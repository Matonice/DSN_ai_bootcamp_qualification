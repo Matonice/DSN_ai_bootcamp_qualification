{
 "cells": [
  {
   "cell_type": "code",
   "execution_count": 1,
   "metadata": {},
   "outputs": [],
   "source": [
    "import pandas as pd\n",
    "import numpy as np\n",
    "from sklearn.ensemble import RandomForestClassifier\n",
    "from sklearn.linear_model import LogisticRegression\n",
    "from xgboost import XGBClassifier \n",
    "from sklearn.preprocessing import StandardScaler\n",
    "from sklearn.svm import SVC\n",
    "from sklearn.metrics import f1_score\n",
    "from catboost import CatBoostClassifier\n",
    "import optuna\n",
    "from sklearn.model_selection import RandomizedSearchCV\n",
    "from random import randint"
   ]
  },
  {
   "cell_type": "code",
   "execution_count": 2,
   "metadata": {},
   "outputs": [],
   "source": [
    "train = pd.read_csv(\"train_folds.csv\")\n",
    "test = pd.read_csv(\"cleaned_test.csv\")\n",
    "sample = pd.read_csv(\"SampleSubmission.csv\")\n",
    "\n",
    "useful_features = [i for i in train.columns if i not in(\"stra_kfold\", \"Response\")]"
   ]
  },
  {
   "cell_type": "code",
   "execution_count": 3,
   "metadata": {},
   "outputs": [],
   "source": [
    "def run(trial):\n",
    "            fold=0\n",
    "            learning_rate = trial.suggest_float(\"learning_rate\", 1e-2, 0.25, log=True)\n",
    "            max_depth = trial.suggest_int(\"max_depth\", 1,7)\n",
    "            n_estimators = trial.suggest_int(\"n_estimators\", 100,2000)\n",
    "\n",
    "            x_train = train[train.stra_kfold != fold].reset_index(drop=True)\n",
    "            x_valid = train[train.stra_kfold == fold].reset_index(drop=True)\n",
    "\n",
    "            y_train = x_train.Response\n",
    "            y_valid = x_valid.Response\n",
    "\n",
    "            x_train = x_train[useful_features]\n",
    "            x_valid = x_valid[useful_features]\n",
    "\n",
    "            sc = StandardScaler()\n",
    "            scaled_x_train = pd.DataFrame(sc.fit_transform(x_train))\n",
    "            scaled_x_valid = pd.DataFrame(sc.transform(x_valid))\n",
    "            #scaled_test = pd.DataFrame(sc.transform(df_test))\n",
    "\n",
    "            scaled_x_train.columns = x_train.columns\n",
    "            scaled_x_valid.columns = x_valid.columns\n",
    "            #scaled_test.columns = df_test.columns\n",
    "\n",
    "\n",
    "            model = CatBoostClassifier(random_state=42,\n",
    "                scale_pos_weight = 5.56,\n",
    "                verbose = 0,\n",
    "                n_estimators= n_estimators,\n",
    "                learning_rate = learning_rate,\n",
    "                max_depth = max_depth,\n",
    "             )\n",
    "            model.fit(scaled_x_train, y_train)\n",
    "            preds = model.predict(scaled_x_valid)\n",
    "            score = model.score(scaled_x_valid, y_valid)\n",
    "            #score = model.score(scaled_x_train, y_train)\n",
    "        \n",
    "            return(score)"
   ]
  },
  {
   "cell_type": "code",
   "execution_count": 4,
   "metadata": {},
   "outputs": [
    {
     "name": "stderr",
     "output_type": "stream",
     "text": [
      "\u001b[32m[I 2021-10-09 09:11:06,328]\u001b[0m A new study created in memory with name: no-name-9b4ab11f-160d-43d3-af18-5f56ac38c516\u001b[0m\n",
      "\u001b[32m[I 2021-10-09 09:11:12,617]\u001b[0m Trial 0 finished with value: 0.8775510204081632 and parameters: {'learning_rate': 0.1004261502680816, 'max_depth': 7, 'n_estimators': 401}. Best is trial 0 with value: 0.8775510204081632.\u001b[0m\n",
      "\u001b[32m[I 2021-10-09 09:11:16,383]\u001b[0m Trial 1 finished with value: 0.8418367346938775 and parameters: {'learning_rate': 0.02177806857872265, 'max_depth': 3, 'n_estimators': 815}. Best is trial 0 with value: 0.8775510204081632.\u001b[0m\n",
      "\u001b[32m[I 2021-10-09 09:11:20,062]\u001b[0m Trial 2 finished with value: 0.8724489795918368 and parameters: {'learning_rate': 0.029359395889084264, 'max_depth': 7, 'n_estimators': 478}. Best is trial 0 with value: 0.8775510204081632.\u001b[0m\n",
      "\u001b[32m[I 2021-10-09 09:11:28,420]\u001b[0m Trial 3 finished with value: 0.8724489795918368 and parameters: {'learning_rate': 0.0110632638051735, 'max_depth': 5, 'n_estimators': 1975}. Best is trial 0 with value: 0.8775510204081632.\u001b[0m\n",
      "\u001b[32m[I 2021-10-09 09:11:31,176]\u001b[0m Trial 4 finished with value: 0.7806122448979592 and parameters: {'learning_rate': 0.01208669634128376, 'max_depth': 2, 'n_estimators': 954}. Best is trial 0 with value: 0.8775510204081632.\u001b[0m\n"
     ]
    }
   ],
   "source": [
    "study = optuna.create_study(direction=\"maximize\")\n",
    "study.optimize(run,n_trials=5)"
   ]
  },
  {
   "cell_type": "code",
   "execution_count": 5,
   "metadata": {},
   "outputs": [
    {
     "data": {
      "text/plain": [
       "{'learning_rate': 0.1004261502680816, 'max_depth': 7, 'n_estimators': 401}"
      ]
     },
     "execution_count": 5,
     "metadata": {},
     "output_type": "execute_result"
    }
   ],
   "source": [
    "study.best_params"
   ]
  },
  {
   "cell_type": "code",
   "execution_count": null,
   "metadata": {},
   "outputs": [],
   "source": []
  }
 ],
 "metadata": {
  "kernelspec": {
   "display_name": "Python 3",
   "language": "python",
   "name": "python3"
  },
  "language_info": {
   "codemirror_mode": {
    "name": "ipython",
    "version": 3
   },
   "file_extension": ".py",
   "mimetype": "text/x-python",
   "name": "python",
   "nbconvert_exporter": "python",
   "pygments_lexer": "ipython3",
   "version": "3.8.5"
  }
 },
 "nbformat": 4,
 "nbformat_minor": 4
}
